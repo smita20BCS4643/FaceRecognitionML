{
 "cells": [
  {
   "attachments": {},
   "cell_type": "markdown",
   "metadata": {},
   "source": [
    "### Resize"
   ]
  },
  {
   "cell_type": "code",
   "execution_count": 2,
   "metadata": {},
   "outputs": [],
   "source": [
    "import numpy as np\n",
    "import cv2"
   ]
  },
  {
   "cell_type": "code",
   "execution_count": null,
   "metadata": {},
   "outputs": [],
   "source": [
    "#loading image\n",
    "img = cv2.imread('./data/flying_bird.jpg')\n",
    "print(img.shape)\n",
    "cv2.imshow('original',img)\n",
    "cv2.waitKey(0)\n",
    "cv2.destoryAllWindows()\n"
   ]
  },
  {
   "attachments": {},
   "cell_type": "markdown",
   "metadata": {},
   "source": [
    "### TASK\n",
    "1.Shrink the image\n",
    "\n",
    "2.Enlarge the image"
   ]
  },
  {
   "cell_type": "code",
   "execution_count": 4,
   "metadata": {},
   "outputs": [],
   "source": [
    "#shrink the image\n",
    "#width always come first in tuples of dsize\n",
    "#width reperesnt the columns, height represnt the rows\n",
    "img_shink = cv2.resize(img,dsize = (320,240),interpolation = cv2.INTER_AREA)\n",
    "\n",
    "#Enlarge\n",
    "#cv2. INTER_CUBIC , cv2.INTER_LINEAR\n",
    "img_zoom = cv2.resize(img, dsize=(1280,960), interpolation = cv2.INTER_CUBIC)\n"
   ]
  },
  {
   "cell_type": "code",
   "execution_count": 5,
   "metadata": {},
   "outputs": [
    {
     "data": {
      "text/plain": [
       "((240, 320, 3), (960, 1280, 3))"
      ]
     },
     "execution_count": 5,
     "metadata": {},
     "output_type": "execute_result"
    }
   ],
   "source": [
    "img_shink.shape, img_zoom.shape"
   ]
  },
  {
   "cell_type": "code",
   "execution_count": null,
   "metadata": {},
   "outputs": [],
   "source": [
    "cv2.imshow('original',img)\n",
    "cv2.imshow('original',img_shink)\n",
    "cv2.imshow('original',img_zoom)\n",
    "cv2.waitKey(0)\n",
    "cv2.destoryAllWindows()\n",
    "\n"
   ]
  }
 ],
 "metadata": {
  "kernelspec": {
   "display_name": "base",
   "language": "python",
   "name": "python3"
  },
  "language_info": {
   "codemirror_mode": {
    "name": "ipython",
    "version": 3
   },
   "file_extension": ".py",
   "mimetype": "text/x-python",
   "name": "python",
   "nbconvert_exporter": "python",
   "pygments_lexer": "ipython3",
   "version": "3.9.16"
  },
  "orig_nbformat": 4
 },
 "nbformat": 4,
 "nbformat_minor": 2
}
