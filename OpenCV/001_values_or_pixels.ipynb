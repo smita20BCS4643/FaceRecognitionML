{
 "cells": [
  {
   "cell_type": "code",
   "execution_count": 3,
   "metadata": {},
   "outputs": [],
   "source": [
    "import numpy as np\n",
    "#numerical python\n",
    "import matplotlib.pyplot as plt \n",
    "#visualization library\n"
   ]
  },
  {
   "cell_type": "code",
   "execution_count": 5,
   "metadata": {},
   "outputs": [
    {
     "name": "stdout",
     "output_type": "stream",
     "text": [
      "[  0   1   2   3   4   5   6   7   8   9  10  11  12  13  14  15  16  17\n",
      "  18  19  20  21  22  23  24  25  26  27  28  29  30  31  32  33  34  35\n",
      "  36  37  38  39  40  41  42  43  44  45  46  47  48  49  50  51  52  53\n",
      "  54  55  56  57  58  59  60  61  62  63  64  65  66  67  68  69  70  71\n",
      "  72  73  74  75  76  77  78  79  80  81  82  83  84  85  86  87  88  89\n",
      "  90  91  92  93  94  95  96  97  98  99 100 101 102 103 104 105 106 107\n",
      " 108 109 110 111 112 113 114 115 116 117 118 119 120 121 122 123 124 125\n",
      " 126 127 128 129 130 131 132 133 134 135 136 137 138 139 140 141 142 143\n",
      " 144 145 146 147 148 149 150 151 152 153 154 155 156 157 158 159 160 161\n",
      " 162 163 164 165 166 167 168 169 170 171 172 173 174 175 176 177 178 179\n",
      " 180 181 182 183 184 185 186 187 188 189 190 191 192 193 194 195 196 197\n",
      " 198 199 200 201 202 203 204 205 206 207 208 209 210 211 212 213 214 215\n",
      " 216 217 218 219 220 221 222 223 224 225 226 227 228 229 230 231 232 233\n",
      " 234 235 236 237 238 239 240 241 242 243 244 245 246 247 248 249 250 251\n",
      " 252 253 254 255]\n"
     ]
    }
   ],
   "source": [
    "#create an array in range(0,255) 16 x 16\n",
    "arr = np.arange(0,256,1)\n",
    "print(arr)"
   ]
  },
  {
   "cell_type": "code",
   "execution_count": 8,
   "metadata": {},
   "outputs": [
    {
     "name": "stdout",
     "output_type": "stream",
     "text": [
      "[[  0   1   2   3   4   5   6   7   8   9  10  11  12  13  14  15]\n",
      " [ 16  17  18  19  20  21  22  23  24  25  26  27  28  29  30  31]\n",
      " [ 32  33  34  35  36  37  38  39  40  41  42  43  44  45  46  47]\n",
      " [ 48  49  50  51  52  53  54  55  56  57  58  59  60  61  62  63]\n",
      " [ 64  65  66  67  68  69  70  71  72  73  74  75  76  77  78  79]\n",
      " [ 80  81  82  83  84  85  86  87  88  89  90  91  92  93  94  95]\n",
      " [ 96  97  98  99 100 101 102 103 104 105 106 107 108 109 110 111]\n",
      " [112 113 114 115 116 117 118 119 120 121 122 123 124 125 126 127]\n",
      " [128 129 130 131 132 133 134 135 136 137 138 139 140 141 142 143]\n",
      " [144 145 146 147 148 149 150 151 152 153 154 155 156 157 158 159]\n",
      " [160 161 162 163 164 165 166 167 168 169 170 171 172 173 174 175]\n",
      " [176 177 178 179 180 181 182 183 184 185 186 187 188 189 190 191]\n",
      " [192 193 194 195 196 197 198 199 200 201 202 203 204 205 206 207]\n",
      " [208 209 210 211 212 213 214 215 216 217 218 219 220 221 222 223]\n",
      " [224 225 226 227 228 229 230 231 232 233 234 235 236 237 238 239]\n",
      " [240 241 242 243 244 245 246 247 248 249 250 251 252 253 254 255]]\n"
     ]
    }
   ],
   "source": [
    "arr = arr.reshape(16,16)\n",
    "print(arr)\n",
    "# lower the values black in colour\n",
    "# higher the values white in colour\n",
    "# middle values gray in colour"
   ]
  },
  {
   "cell_type": "code",
   "execution_count": 9,
   "metadata": {},
   "outputs": [],
   "source": [
    "arr_8bit = arr.astype(np.uint8)"
   ]
  },
  {
   "cell_type": "code",
   "execution_count": 10,
   "metadata": {},
   "outputs": [
    {
     "data": {
      "image/png": "[encoded data removed]",
      "text/plain": [
       "<Figure size 640x480 with 1 Axes>"
      ]
     },
     "metadata": {},
     "output_type": "display_data"
    }
   ],
   "source": [
    "plt.imshow(arr_8bit,cmap='gray')\n",
    "plt.axis('off')\n",
    "plt.show()"
   ]
  },
  {
   "cell_type": "code",
   "execution_count": 11,
   "metadata": {},
   "outputs": [
    {
     "data": {
      "text/plain": [
       "(-0.5, 15.5, 15.5, -0.5)"
      ]
     },
     "execution_count": 11,
     "metadata": {},
     "output_type": "execute_result"
    },
    {
     "data": {
      "image/png": "[encoded data removed]",
      "text/plain": [
       "<Figure size 640x480 with 1 Axes>"
      ]
     },
     "metadata": {},
     "output_type": "display_data"
    }
   ],
   "source": [
    "#random matrix(16x16)\n",
    "arr1 = np.random.randint(low=0,high=255,size=(16,16),dtype=np.uint8)\n",
    "plt.imshow(arr1,cmap='gray')\n",
    "plt.axis('off')"
   ]
  },
  {
   "cell_type": "code",
   "execution_count": 12,
   "metadata": {},
   "outputs": [
    {
     "data": {
      "text/plain": [
       "array([[168,  27, 166, 146,  70, 161,  70,  51, 101,  80, 228, 126,  92,\n",
       "        109,  29, 207],\n",
       "       [222, 121,  93, 246, 117, 201, 223, 141,  14, 135,  18,  99,  89,\n",
       "         43, 225, 120],\n",
       "       [156, 132, 209, 194,  11,   0,  59, 191,  70, 128, 237,  55,  87,\n",
       "        136,   4, 225],\n",
       "       [216, 108,  42, 124,  68,  38, 195, 221,  20, 216, 131, 219, 225,\n",
       "        239, 213,  21],\n",
       "       [128,  11, 100, 200,  33, 251,  59,   9, 129,  87,  38,  29, 243,\n",
       "         53,  49,  93],\n",
       "       [241,  25,  87, 110,  84, 168, 173, 165, 191, 107, 113, 188, 234,\n",
       "        160, 141, 169],\n",
       "       [152, 129, 112, 164,  88, 216, 186, 163,  52,  87,   3,  24, 182,\n",
       "        154, 217, 138],\n",
       "       [ 21, 142, 172,  55, 148,  83,  45, 201,  16, 156, 194, 162,  94,\n",
       "         34, 126, 137],\n",
       "       [210, 139,  81,  45,  16, 178,  16, 105, 189, 130,  59, 138, 187,\n",
       "        220,  70,  24],\n",
       "       [188, 158, 194,  43, 123, 220,  85, 203,  23, 163, 130, 188,  62,\n",
       "        102,  77, 235],\n",
       "       [ 86,  33, 107,   6, 208,   1, 116,  61,  23, 236, 200, 148, 117,\n",
       "        111, 144, 146],\n",
       "       [111, 148,  24,  28,  60, 253,   4, 238,  48,  83, 224,  38, 200,\n",
       "         97, 252, 197],\n",
       "       [133, 150,  34, 134,   1, 230, 251,  62, 235,  31, 206,  59,  33,\n",
       "         61, 115, 197],\n",
       "       [194,  82,  29,  24,  72,  31, 182,  59, 117,  69, 150,  45,   8,\n",
       "         35, 192,  61],\n",
       "       [ 74,  63,  10,  69, 139,   7,  63, 246, 141,  68, 172, 128,  57,\n",
       "         58,  92,  28],\n",
       "       [252, 128,  38, 229, 224, 149,  45,   9, 197, 163, 110,  22, 200,\n",
       "        251,  46, 100]], dtype=uint8)"
      ]
     },
     "execution_count": 12,
     "metadata": {},
     "output_type": "execute_result"
    }
   ],
   "source": [
    "arr1"
   ]
  }
 ],
 "metadata": {
  "kernelspec": {
   "display_name": "base",
   "language": "python",
   "name": "python3"
  },
  "language_info": {
   "codemirror_mode": {
    "name": "ipython",
    "version": 3
   },
   "file_extension": ".py",
   "mimetype": "text/x-python",
   "name": "python",
   "nbconvert_exporter": "python",
   "pygments_lexer": "ipython3",
   "version": "3.9.16"
  },
  "orig_nbformat": 4
 },
 "nbformat": 4,
 "nbformat_minor": 2
}
