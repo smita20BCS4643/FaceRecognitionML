{
 "cells": [
  {
   "cell_type": "code",
   "execution_count": 1,
   "metadata": {},
   "outputs": [],
   "source": [
    "import numpy as np\n",
    "import cv2\n",
    "import matplotlib.image as matimg\n",
    "from PIL import Image\n",
    "import matplotlib.pyplot as plt"
   ]
  },
  {
   "cell_type": "code",
   "execution_count": 2,
   "metadata": {},
   "outputs": [],
   "source": [
    "#opencv -BGR - numpy array\n",
    "img_cv = cv2.imread('./data/flying_bird.jpg')"
   ]
  },
  {
   "cell_type": "code",
   "execution_count": 3,
   "metadata": {},
   "outputs": [
    {
     "name": "stdout",
     "output_type": "stream",
     "text": [
      "None\n"
     ]
    }
   ],
   "source": [
    "print(img_cv)"
   ]
  },
  {
   "cell_type": "code",
   "execution_count": 5,
   "metadata": {},
   "outputs": [],
   "source": [
    "# Matplotlib - RGB - numpy array\n",
    "img_mat = matimg.imread('./data/flying_bird.jpg')"
   ]
  },
  {
   "cell_type": "code",
   "execution_count": 6,
   "metadata": {},
   "outputs": [
    {
     "name": "stdout",
     "output_type": "stream",
     "text": [
      "[[[ 92  48  21]\n",
      "  [ 90  46  19]\n",
      "  [ 88  42  16]\n",
      "  ...\n",
      "  [ 13  14   0]\n",
      "  [ 10  11   0]\n",
      "  [ 14  15   0]]\n",
      "\n",
      " [[ 88  44  17]\n",
      "  [ 87  43  16]\n",
      "  [ 87  41  15]\n",
      "  ...\n",
      "  [ 19  20   4]\n",
      "  [ 16  17   1]\n",
      "  [ 12  13   0]]\n",
      "\n",
      " [[ 91  45  19]\n",
      "  [ 91  45  19]\n",
      "  [ 91  45  19]\n",
      "  ...\n",
      "  [ 21  22   6]\n",
      "  [ 22  23   7]\n",
      "  [ 14  15   0]]\n",
      "\n",
      " ...\n",
      "\n",
      " [[ 88  56  31]\n",
      "  [ 95  63  38]\n",
      "  [ 97  65  40]\n",
      "  ...\n",
      "  [ 77 101   3]\n",
      "  [ 74  98   0]\n",
      "  [ 73  97   1]]\n",
      "\n",
      " [[ 93  61  36]\n",
      "  [ 94  64  38]\n",
      "  [ 95  65  39]\n",
      "  ...\n",
      "  [ 77 101   3]\n",
      "  [ 75  99   1]\n",
      "  [ 73  97   1]]\n",
      "\n",
      " [[ 92  62  36]\n",
      "  [ 90  60  34]\n",
      "  [ 90  60  34]\n",
      "  ...\n",
      "  [ 75  99   1]\n",
      "  [ 73  97   0]\n",
      "  [ 73  97   1]]]\n"
     ]
    }
   ],
   "source": [
    "print(img_mat)"
   ]
  },
  {
   "cell_type": "code",
   "execution_count": 7,
   "metadata": {},
   "outputs": [],
   "source": [
    "# PIL - RGB - object\n",
    "img_pil = Image.open('./data/flying_bird.jpg')"
   ]
  },
  {
   "cell_type": "code",
   "execution_count": null,
   "metadata": {},
   "outputs": [],
   "source": []
  }
 ],
 "metadata": {
  "kernelspec": {
   "display_name": "base",
   "language": "python",
   "name": "python3"
  },
  "language_info": {
   "codemirror_mode": {
    "name": "ipython",
    "version": 3
   },
   "file_extension": ".py",
   "mimetype": "text/x-python",
   "name": "python",
   "nbconvert_exporter": "python",
   "pygments_lexer": "ipython3",
   "version": "3.9.16"
  },
  "orig_nbformat": 4
 },
 "nbformat": 4,
 "nbformat_minor": 2
}
