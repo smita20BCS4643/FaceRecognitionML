{
 "cells": [
  {
   "attachments": {},
   "cell_type": "markdown",
   "metadata": {},
   "source": [
    "### Exploratory Data Analysis¶\n",
    "Distribution of Male and Female\n",
    "\n",
    "Bar Chart\n",
    "\n",
    "Pie Chart\n",
    "\n",
    "What Distribution of size of all Images\n",
    "\n",
    "Histogram\n",
    "\n",
    "Box Plot\n",
    "\n",
    "Split by “Gender”\n",
    "\n",
    "Make the decision of width & height to resize using above chart.\n",
    "\n",
    "Remove the few images that are having very less size"
   ]
  },
  {
   "cell_type": "code",
   "execution_count": null,
   "metadata": {
    "vscode": {
     "languageId": "plaintext"
    }
   },
   "outputs": [],
   "source": [
    "!pip install seaborn"
   ]
  }
 ],
 "metadata": {
  "language_info": {
   "name": "python"
  },
  "orig_nbformat": 4
 },
 "nbformat": 4,
 "nbformat_minor": 2
}
